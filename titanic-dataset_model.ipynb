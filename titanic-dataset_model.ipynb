{
 "cells": [
  {
   "cell_type": "markdown",
   "metadata": {},
   "source": [
    "#                    The Titanic dataset survival prediction\n",
    "#                    Neural Network and Multiple Linear Regression\n",
    "\n",
    "rejected attributes :  \n",
    "\n",
    "PassengerId, \n",
    "Ticket, \n",
    "Cabin.\n",
    "\n",
    "attributes used :\n",
    "\n",
    "Pclass, \n",
    "Name, \n",
    "Sex, \n",
    "Age, \n",
    "SibSp, \n",
    "Parch, \n",
    "Fare, \n",
    "Embarked, \n",
    "Survived\n",
    "\n",
    "\n",
    "##                                                       attribute analysis\n"
   ]
  },
  {
   "cell_type": "code",
   "execution_count": 403,
   "metadata": {},
   "outputs": [],
   "source": [
    "import numpy as np\n",
    "import pandas as pd\n",
    "import math\n",
    "import matplotlib.pyplot as plt\n",
    "train = pd.read_csv('/Users/nic/Desktop/train.csv', header = 0)"
   ]
  },
  {
   "cell_type": "markdown",
   "metadata": {},
   "source": [
    "###                                                                    1 Pclass vs Survived\n"
   ]
  },
  {
   "cell_type": "code",
   "execution_count": 352,
   "metadata": {
    "scrolled": true
   },
   "outputs": [
    {
     "data": {
      "text/plain": [
       "<matplotlib.axes._subplots.AxesSubplot at 0x11fe565f8>"
      ]
     },
     "execution_count": 352,
     "metadata": {},
     "output_type": "execute_result"
    },
    {
     "data": {
      "image/png": "[encoded data removed]",
      "text/plain": [
       "<matplotlib.figure.Figure at 0x11fe55f98>"
      ]
     },
     "metadata": {},
     "output_type": "display_data"
    }
   ],
   "source": [
    "graph1 = train[['Pclass','Survived']]\n",
    "graph1 = graph1.groupby(['Pclass'], as_index='False').mean().reset_index()\n",
    "graph1.plot(x='Pclass', y='Survived', kind = 'bar')"
   ]
  },
  {
   "cell_type": "markdown",
   "metadata": {},
   "source": [
    "so you can see the trend of survival : passenger class 1 > class 3 > class 2"
   ]
  },
  {
   "cell_type": "markdown",
   "metadata": {},
   "source": [
    "###                                                                           2 Name vs Survived\n",
    "\n",
    "\n",
    "#####     name attribute is compound attribute with three parts. i.e. title, first name and last name. trying to extract some information from the title as follows. i will find out what is the prior probability given dataset that a person with given title will survive. i will use these values as weights for all the titles to convert them to a metric value from nominal."
   ]
  },
  {
   "cell_type": "code",
   "execution_count": 353,
   "metadata": {
    "scrolled": false
   },
   "outputs": [
    {
     "name": "stdout",
     "output_type": "stream",
     "text": [
      "probability of survival given a title\n",
      "       Title  Survived\n",
      "0       Capt  0.000000\n",
      "1        Col  0.500000\n",
      "2   Countess  1.000000\n",
      "3        Don  0.000000\n",
      "4         Dr  0.428571\n",
      "5   Jonkheer  0.000000\n",
      "6       Lady  1.000000\n",
      "7      Major  0.500000\n",
      "8     Master  0.575000\n",
      "9       Miss  0.702703\n",
      "10        Mr  0.156673\n",
      "11       Mrs  0.793651\n",
      "12       Rev  0.000000\n",
      "13       Sir  1.000000\n"
     ]
    },
    {
     "data": {
      "text/plain": [
       "<matplotlib.axes._subplots.AxesSubplot at 0x11fd48358>"
      ]
     },
     "execution_count": 353,
     "metadata": {},
     "output_type": "execute_result"
    },
    {
     "data": {
      "image/png": "[encoded data removed]",
      "text/plain": [
       "<matplotlib.figure.Figure at 0x11fdd9470>"
      ]
     },
     "metadata": {},
     "output_type": "display_data"
    }
   ],
   "source": [
    "import re as re\n",
    "graph2 = train[['Name','Survived']]\n",
    "\n",
    "\n",
    "def get_title(name):\n",
    "\ttitle = re.search('([A-Za-z]+)\\.', name)\n",
    "\tif title:\n",
    "\t\treturn title.group(1)\n",
    "\treturn \"\"\n",
    "\n",
    "new = []\n",
    "remap = {'Mlle':'Miss', 'Ms':'Miss','Mme': 'Mrs' }         #remapping some titles\n",
    "\n",
    "for i,row in graph2.iterrows():\n",
    "    x = get_title(graph2['Name'][i])\n",
    "    new.append([x,graph2['Survived'][i]])\n",
    "    \n",
    "df = pd.DataFrame(new,columns=['Title','Survived'])\n",
    "df = df.replace({\"Title\":remap})\n",
    "\n",
    "\n",
    "# print(\"all per title\")\n",
    "# graph2 = df.groupby(['Title'], as_index='False').count().reset_index()\n",
    "# print(graph2)\n",
    "# print(\"survived\")\n",
    "# graph2 = df.groupby(['Title'], as_index='False').sum().reset_index()\n",
    "# print(graph2)\n",
    "print(\"probability of survival given a title\")\n",
    "graph2 = df.groupby(['Title'], as_index='False').mean().reset_index()\n",
    "print(graph2)\n",
    "graph2.plot(x='Title', kind = 'bar')\n"
   ]
  },
  {
   "cell_type": "markdown",
   "metadata": {},
   "source": [
    "###                                                                           3 Sex vs Survived\n",
    "\n",
    "####      weight male = chance of male surviving\n",
    "####      weight female = chance of female surviving\n",
    "####      clearly more females survived :O"
   ]
  },
  {
   "cell_type": "code",
   "execution_count": 354,
   "metadata": {},
   "outputs": [
    {
     "name": "stdout",
     "output_type": "stream",
     "text": [
      "probability of survival given a gender\n",
      "      Sex  Survived\n",
      "0  female  0.742038\n",
      "1    male  0.188908\n"
     ]
    },
    {
     "data": {
      "text/plain": [
       "<matplotlib.axes._subplots.AxesSubplot at 0x11fcfd6d8>"
      ]
     },
     "execution_count": 354,
     "metadata": {},
     "output_type": "execute_result"
    },
    {
     "data": {
      "image/png": "[encoded data removed]",
      "text/plain": [
       "<matplotlib.figure.Figure at 0x11fe14c18>"
      ]
     },
     "metadata": {},
     "output_type": "display_data"
    }
   ],
   "source": [
    "graph3 = train[['Sex','Survived']]\n",
    "\n",
    "print(\"probability of survival given a gender\")\n",
    "# graphx = graph3.groupby(['Sex'], as_index='False').count().reset_index()\n",
    "# print(graphx)\n",
    "# graphy = graph3.groupby(['Sex'], as_index='False').sum().reset_index()\n",
    "# print(graphy)\n",
    "graph3 = graph3.groupby(['Sex'], as_index='False').mean().reset_index()\n",
    "print(graph3)\n",
    "graph3.plot(x='Sex', kind = 'bar')"
   ]
  },
  {
   "cell_type": "markdown",
   "metadata": {},
   "source": [
    "###                                                                           4 Embarked vs Survived\n",
    "\n"
   ]
  },
  {
   "cell_type": "code",
   "execution_count": 355,
   "metadata": {},
   "outputs": [
    {
     "name": "stdout",
     "output_type": "stream",
     "text": [
      "probability of survival given a title\n",
      "  Embarked  Survived\n",
      "0        C  0.553571\n",
      "1        Q  0.389610\n",
      "2        S  0.336957\n"
     ]
    },
    {
     "data": {
      "text/plain": [
       "<matplotlib.axes._subplots.AxesSubplot at 0x11e604fd0>"
      ]
     },
     "execution_count": 355,
     "metadata": {},
     "output_type": "execute_result"
    },
    {
     "data": {
      "image/png": "[encoded data removed]",
      "text/plain": [
       "<matplotlib.figure.Figure at 0x120101438>"
      ]
     },
     "metadata": {},
     "output_type": "display_data"
    }
   ],
   "source": [
    "graph4 = train[['Embarked','Survived']]\n",
    "  \n",
    "print(\"probability of survival given a title\")\n",
    "graph4 = graph4.groupby(['Embarked'], as_index='False').mean().reset_index()\n",
    "print(graph4)\n",
    "graph4.plot(x='Embarked', kind = 'bar')\n",
    "\n"
   ]
  },
  {
   "cell_type": "markdown",
   "metadata": {},
   "source": [
    "###                                                                          5 SibSp and Parch\n",
    "#### i will either replace the number of relations with probability weights or keep them as it is because values are already numeric."
   ]
  },
  {
   "cell_type": "code",
   "execution_count": 356,
   "metadata": {
    "scrolled": false
   },
   "outputs": [
    {
     "name": "stdout",
     "output_type": "stream",
     "text": [
      "probability of survival given number of relations\n",
      "   Relation  Survived\n",
      "0         0  0.303538\n",
      "1         1  0.552795\n",
      "2         2  0.578431\n",
      "3         3  0.724138\n",
      "4         4  0.200000\n",
      "5         5  0.136364\n",
      "6         6  0.333333\n",
      "7         7  0.000000\n",
      "8        10  0.000000\n"
     ]
    },
    {
     "data": {
      "text/plain": [
       "<matplotlib.axes._subplots.AxesSubplot at 0x1201bdd30>"
      ]
     },
     "execution_count": 356,
     "metadata": {},
     "output_type": "execute_result"
    },
    {
     "data": {
      "image/png": "[encoded data removed]",
      "text/plain": [
       "<matplotlib.figure.Figure at 0x120187080>"
      ]
     },
     "metadata": {},
     "output_type": "display_data"
    }
   ],
   "source": [
    "graph5 = train[['SibSp','Parch','Survived']]\n",
    "  \n",
    "#print(graph5.describe())\n",
    "new = []\n",
    "\n",
    "for i,row in graph5.iterrows():\n",
    "    x = graph5['SibSp'][i]\n",
    "    y = graph5['Parch'][i]\n",
    "    new.append([int(x+y),graph5['Survived'][i]])\n",
    "    \n",
    "graph5 = pd.DataFrame(new,columns=['Relation','Survived'])\n",
    "#print(graph5)\n",
    "print(\"probability of survival given number of relations\")\n",
    "graph5 = graph5.groupby(['Relation'], as_index='False').mean().reset_index()\n",
    "print(graph5)\n",
    "graph5.plot(x='Relation', kind = 'bar')"
   ]
  },
  {
   "cell_type": "markdown",
   "metadata": {},
   "source": [
    "#                                            filling missing values"
   ]
  },
  {
   "cell_type": "code",
   "execution_count": 388,
   "metadata": {
    "scrolled": true
   },
   "outputs": [
    {
     "data": {
      "text/plain": [
       "2"
      ]
     },
     "execution_count": 388,
     "metadata": {},
     "output_type": "execute_result"
    }
   ],
   "source": [
    "train['Embarked'].isnull().sum().sum()"
   ]
  },
  {
   "cell_type": "code",
   "execution_count": 391,
   "metadata": {},
   "outputs": [
    {
     "data": {
      "text/plain": [
       "0"
      ]
     },
     "execution_count": 391,
     "metadata": {},
     "output_type": "execute_result"
    }
   ],
   "source": [
    "train.fillna(train['Embarked'].value_counts().index[0], inplace=True)\n",
    "train['Embarked'].isnull().sum().sum()"
   ]
  },
  {
   "cell_type": "code",
   "execution_count": 389,
   "metadata": {},
   "outputs": [
    {
     "data": {
      "text/plain": [
       "177"
      ]
     },
     "execution_count": 389,
     "metadata": {},
     "output_type": "execute_result"
    }
   ],
   "source": [
    "train['Age'].isnull().sum().sum()"
   ]
  },
  {
   "cell_type": "code",
   "execution_count": 390,
   "metadata": {},
   "outputs": [
    {
     "data": {
      "text/plain": [
       "0"
      ]
     },
     "execution_count": 390,
     "metadata": {},
     "output_type": "execute_result"
    }
   ],
   "source": [
    "train.fillna(train.mean()['Age'], inplace=True)\n",
    "train['Age'].isnull().sum().sum()"
   ]
  },
  {
   "cell_type": "markdown",
   "metadata": {},
   "source": [
    "now we dont have missing values.\n",
    "also as we didnt manipulate age olumn above, its okay to fill values now. and since embarked has just 2 missing values and its a nominal data, i replaced them with most occouring values."
   ]
  },
  {
   "cell_type": "markdown",
   "metadata": {},
   "source": [
    "#                                    mapping all nominal data to weights"
   ]
  },
  {
   "cell_type": "code",
   "execution_count": 392,
   "metadata": {},
   "outputs": [
    {
     "name": "stdout",
     "output_type": "stream",
     "text": [
      "{1: 0.6296296296296297, 2: 0.47282608695652173, 3: 0.24236252545824846}\n",
      "\n",
      "{'Capt': 0.0, 'Col': 0.5, 'Countess': 1.0, 'Don': 0.0, 'Dr': 0.42857142857142855, 'Jonkheer': 0.0, 'Lady': 1.0, 'Major': 0.5, 'Master': 0.575, 'Miss': 0.7027027027027027, 'Mr': 0.15667311411992263, 'Mrs': 0.7936507936507936, 'Rev': 0.0, 'Sir': 1.0}\n",
      "\n",
      "{'female': 0.7420382165605095, 'male': 0.18890814558058924}\n",
      "\n",
      "{'C': 0.5535714285714286, 'Q': 0.38961038961038963, 'S': 0.33695652173913043}\n",
      "\n",
      "{0: 0.30353817504655495, 1: 0.5527950310559007, 2: 0.5784313725490197, 3: 0.7241379310344828, 4: 0.2, 5: 0.13636363636363635, 6: 0.3333333333333333, 7: 0.0, 10: 0.0}\n"
     ]
    }
   ],
   "source": [
    "d1=[]\n",
    "d2=[]\n",
    "d3=[]\n",
    "d4=[]\n",
    "d5=[]\n",
    "for columns in graph1.to_dict():\n",
    "    value = graph1.to_dict().get(columns)\n",
    "    d1.append(list(value.values()))\n",
    "for columns in graph2.to_dict():\n",
    "    value = graph2.to_dict().get(columns)\n",
    "    d2.append(list(value.values()))\n",
    "for columns in graph3.to_dict():\n",
    "    value = graph3.to_dict().get(columns)\n",
    "    d3.append(list(value.values()))\n",
    "for columns in graph4.to_dict():\n",
    "    value = graph4.to_dict().get(columns)\n",
    "    d4.append(list(value.values()))\n",
    "for columns in graph5.to_dict():\n",
    "    value = graph5.to_dict().get(columns)\n",
    "    d5.append(list(value.values()))\n",
    "\n",
    "d1=dict(zip(d1[0],d1[1]))\n",
    "d2=dict(zip(d2[0],d2[1]))\n",
    "d3=dict(zip(d3[0],d3[1]))\n",
    "d4=dict(zip(d4[0],d4[1]))\n",
    "d5=dict(zip(d5[0],d5[1]))\n",
    "\n",
    "print(d1)\n",
    "print()\n",
    "print(d2)\n",
    "print()\n",
    "print(d3)\n",
    "print()\n",
    "print(d4)\n",
    "print()\n",
    "print(d5)\n",
    "\n",
    "\n"
   ]
  },
  {
   "cell_type": "code",
   "execution_count": 393,
   "metadata": {},
   "outputs": [
    {
     "name": "stdout",
     "output_type": "stream",
     "text": [
      "     Title  Survived  Pclass     Sex        Age  Relation     Fare Embarked\n",
      "0       Mr         0       3    male  22.000000         1   7.2500        S\n",
      "1      Mrs         1       1  female  38.000000         1  71.2833        C\n",
      "2     Miss         1       3  female  26.000000         0   7.9250        S\n",
      "3      Mrs         1       1  female  35.000000         1  53.1000        S\n",
      "4       Mr         0       3    male  35.000000         0   8.0500        S\n",
      "5       Mr         0       3    male  29.699118         0   8.4583        Q\n",
      "6       Mr         0       1    male  54.000000         0  51.8625        S\n",
      "7   Master         0       3    male   2.000000         4  21.0750        S\n",
      "8      Mrs         1       3  female  27.000000         2  11.1333        S\n",
      "9      Mrs         1       2  female  14.000000         1  30.0708        C\n",
      "10    Miss         1       3  female   4.000000         2  16.7000        S\n",
      "11    Miss         1       1  female  58.000000         0  26.5500        S\n",
      "12      Mr         0       3    male  20.000000         0   8.0500        S\n",
      "13      Mr         0       3    male  39.000000         6  31.2750        S\n",
      "14    Miss         0       3  female  14.000000         0   7.8542        S\n",
      "15     Mrs         1       2  female  55.000000         0  16.0000        S\n",
      "16  Master         0       3    male   2.000000         5  29.1250        Q\n",
      "17      Mr         1       2    male  29.699118         0  13.0000        S\n",
      "18     Mrs         0       3  female  31.000000         1  18.0000        S\n",
      "19     Mrs         1       3  female  29.699118         0   7.2250        C\n"
     ]
    }
   ],
   "source": [
    "trainnew = train\n",
    "\n",
    "new = []\n",
    "\n",
    "for i,row in trainnew.iterrows():\n",
    "    x = get_title(trainnew['Name'][i])\n",
    "    new.append([x,trainnew['Survived'][i],trainnew['Pclass'][i],trainnew['Sex'][i],trainnew['Age'][i],int(trainnew['SibSp'][i]+trainnew['Parch'][i]),trainnew['Fare'][i],trainnew['Embarked'][i]])\n",
    "    \n",
    "trainnew = pd.DataFrame(new,columns=['Title','Survived','Pclass','Sex','Age','Relation','Fare','Embarked'])\n",
    "trainnew = trainnew.replace({\"Title\":remap})\n",
    "\n",
    "print(trainnew.head(20))"
   ]
  },
  {
   "cell_type": "code",
   "execution_count": 394,
   "metadata": {
    "scrolled": false
   },
   "outputs": [
    {
     "name": "stdout",
     "output_type": "stream",
     "text": [
      "       Title  Survived    Pclass       Sex        Age  Relation     Fare  \\\n",
      "0   0.156673         0  0.242363  0.188908  22.000000  0.552795   7.2500   \n",
      "1   0.793651         1  0.629630  0.742038  38.000000  0.552795  71.2833   \n",
      "2   0.702703         1  0.242363  0.742038  26.000000  0.303538   7.9250   \n",
      "3   0.793651         1  0.629630  0.742038  35.000000  0.552795  53.1000   \n",
      "4   0.156673         0  0.242363  0.188908  35.000000  0.303538   8.0500   \n",
      "5   0.156673         0  0.242363  0.188908  29.699118  0.303538   8.4583   \n",
      "6   0.156673         0  0.629630  0.188908  54.000000  0.303538  51.8625   \n",
      "7   0.575000         0  0.242363  0.188908   2.000000  0.200000  21.0750   \n",
      "8   0.793651         1  0.242363  0.742038  27.000000  0.578431  11.1333   \n",
      "9   0.793651         1  0.472826  0.742038  14.000000  0.552795  30.0708   \n",
      "10  0.702703         1  0.242363  0.742038   4.000000  0.578431  16.7000   \n",
      "11  0.702703         1  0.629630  0.742038  58.000000  0.303538  26.5500   \n",
      "12  0.156673         0  0.242363  0.188908  20.000000  0.303538   8.0500   \n",
      "13  0.156673         0  0.242363  0.188908  39.000000  0.333333  31.2750   \n",
      "14  0.702703         0  0.242363  0.742038  14.000000  0.303538   7.8542   \n",
      "15  0.793651         1  0.472826  0.742038  55.000000  0.303538  16.0000   \n",
      "16  0.575000         0  0.242363  0.188908   2.000000  0.136364  29.1250   \n",
      "17  0.156673         1  0.472826  0.188908  29.699118  0.303538  13.0000   \n",
      "18  0.793651         0  0.242363  0.742038  31.000000  0.552795  18.0000   \n",
      "19  0.793651         1  0.242363  0.742038  29.699118  0.303538   7.2250   \n",
      "\n",
      "    Embarked  \n",
      "0   0.336957  \n",
      "1   0.553571  \n",
      "2   0.336957  \n",
      "3   0.336957  \n",
      "4   0.336957  \n",
      "5   0.389610  \n",
      "6   0.336957  \n",
      "7   0.336957  \n",
      "8   0.336957  \n",
      "9   0.553571  \n",
      "10  0.336957  \n",
      "11  0.336957  \n",
      "12  0.336957  \n",
      "13  0.336957  \n",
      "14  0.336957  \n",
      "15  0.336957  \n",
      "16  0.389610  \n",
      "17  0.336957  \n",
      "18  0.336957  \n",
      "19  0.553571  \n"
     ]
    }
   ],
   "source": [
    "#now mapping values to probability stuff\n",
    "\n",
    "trainnew = trainnew.replace({\"Pclass\":d1})\n",
    "trainnew = trainnew.replace({\"Title\":d2})\n",
    "trainnew = trainnew.replace({\"Sex\":d3})\n",
    "trainnew.Relation = trainnew.Relation.map(d5)\n",
    "trainnew = trainnew.replace({\"Embarked\":d4})\n",
    "\n",
    "print(trainnew.head(20))\n",
    "\n"
   ]
  },
  {
   "cell_type": "markdown",
   "metadata": {},
   "source": [
    "## this is the new dataset we want to play with i guess. lets pass it via NN.\n",
    "\n",
    "### ill start by splitting it into two for training and testing."
   ]
  },
  {
   "cell_type": "markdown",
   "metadata": {},
   "source": [
    "# Neural Network :"
   ]
  },
  {
   "cell_type": "code",
   "execution_count": 545,
   "metadata": {},
   "outputs": [],
   "source": [
    "X = trainnew.drop('Survived',axis=1)\n",
    "Y = trainnew['Survived']"
   ]
  },
  {
   "cell_type": "code",
   "execution_count": 546,
   "metadata": {},
   "outputs": [
    {
     "name": "stdout",
     "output_type": "stream",
     "text": [
      "[[125  13]\n",
      " [ 28  57]]\n",
      "             precision    recall  f1-score   support\n",
      "\n",
      "          0       0.82      0.91      0.86       138\n",
      "          1       0.81      0.67      0.74        85\n",
      "\n",
      "avg / total       0.82      0.82      0.81       223\n",
      "\n"
     ]
    }
   ],
   "source": [
    "from sklearn.model_selection import train_test_split\n",
    "X_train, X_test, Y_train, Y_test = train_test_split(X, Y)\n",
    "from sklearn.preprocessing import StandardScaler\n",
    "scaler = StandardScaler()\n",
    "scaler.fit(X_train)\n",
    "X_train = scaler.transform(X_train)\n",
    "X_test = scaler.transform(X_test)\n",
    "from sklearn.neural_network import MLPClassifier\n",
    "mlp = MLPClassifier(hidden_layer_sizes=(10,),max_iter=500)\n",
    "mlp.fit(X_train,Y_train)\n",
    "predictions = mlp.predict(X_test)\n",
    "from sklearn.metrics import classification_report,confusion_matrix\n",
    "print(confusion_matrix(Y_test,predictions))\n",
    "print(classification_report(Y_test,predictions))"
   ]
  },
  {
   "cell_type": "code",
   "execution_count": 547,
   "metadata": {},
   "outputs": [
    {
     "data": {
      "image/png": "[encoded data removed]",
      "text/plain": [
       "<IPython.core.display.Image object>"
      ]
     },
     "execution_count": 547,
     "metadata": {},
     "output_type": "execute_result"
    }
   ],
   "source": [
    "from IPython.display import Image\n",
    "Image(filename='/Users/nic/Desktop/some.png')\n",
    "#this is the accuracy of the modified dataset pssed into neuralnetwork operator in rapid miner pro software. only suggests that with appropiate optimization the model can achive better results."
   ]
  },
  {
   "cell_type": "markdown",
   "metadata": {},
   "source": [
    "# multivariable linear regression :"
   ]
  },
  {
   "cell_type": "code",
   "execution_count": 548,
   "metadata": {},
   "outputs": [
    {
     "data": {
      "text/plain": [
       "LinearRegression(copy_X=True, fit_intercept=True, n_jobs=1, normalize=False)"
      ]
     },
     "execution_count": 548,
     "metadata": {},
     "output_type": "execute_result"
    }
   ],
   "source": [
    "X_train, X_test, Y_train, Y_test = train_test_split(X, Y, test_size=0.2, random_state=0)\n",
    "from sklearn.linear_model import LinearRegression  \n",
    "regressor = LinearRegression()  \n",
    "regressor.fit(X_train, Y_train)"
   ]
  },
  {
   "cell_type": "code",
   "execution_count": 549,
   "metadata": {},
   "outputs": [
    {
     "name": "stdout",
     "output_type": "stream",
     "text": [
      "[ 8.01978328e-01  7.22956816e-01  9.28774790e-02 -2.98289847e-03\n",
      "  2.77900179e-01  8.08411062e-05  7.23298265e-03]\n"
     ]
    }
   ],
   "source": [
    "print(regressor.coef_)"
   ]
  },
  {
   "cell_type": "code",
   "execution_count": 550,
   "metadata": {},
   "outputs": [],
   "source": [
    "Y_pred = regressor.predict(X_test) "
   ]
  },
  {
   "cell_type": "code",
   "execution_count": 551,
   "metadata": {},
   "outputs": [],
   "source": [
    "dfinal = pd.DataFrame({'Actual': Y_test, 'Predicted': np.rint(Y_pred)})  "
   ]
  },
  {
   "cell_type": "code",
   "execution_count": 552,
   "metadata": {
    "scrolled": false
   },
   "outputs": [
    {
     "name": "stdout",
     "output_type": "stream",
     "text": [
      "Mean Absolute Error: 0.2688536188926019\n",
      "Mean Squared Error: 0.12651638572241541\n",
      "Root Mean Squared Error: 0.35569141924203823\n"
     ]
    }
   ],
   "source": [
    "from sklearn import metrics  \n",
    "print('Mean Absolute Error:', metrics.mean_absolute_error(Y_test, Y_pred))  \n",
    "print('Mean Squared Error:', metrics.mean_squared_error(Y_test, Y_pred))  \n",
    "print('Root Mean Squared Error:', np.sqrt(metrics.mean_squared_error(Y_test, Y_pred))) "
   ]
  },
  {
   "cell_type": "code",
   "execution_count": 553,
   "metadata": {},
   "outputs": [
    {
     "data": {
      "text/html": [
       "<div>\n",
       "<style scoped>\n",
       "    .dataframe tbody tr th:only-of-type {\n",
       "        vertical-align: middle;\n",
       "    }\n",
       "\n",
       "    .dataframe tbody tr th {\n",
       "        vertical-align: top;\n",
       "    }\n",
       "\n",
       "    .dataframe thead th {\n",
       "        text-align: right;\n",
       "    }\n",
       "</style>\n",
       "<table border=\"1\" class=\"dataframe\">\n",
       "  <thead>\n",
       "    <tr style=\"text-align: right;\">\n",
       "      <th></th>\n",
       "      <th>Actual</th>\n",
       "      <th>Predicted</th>\n",
       "    </tr>\n",
       "  </thead>\n",
       "  <tbody>\n",
       "    <tr>\n",
       "      <th>495</th>\n",
       "      <td>0</td>\n",
       "      <td>0.0</td>\n",
       "    </tr>\n",
       "    <tr>\n",
       "      <th>648</th>\n",
       "      <td>0</td>\n",
       "      <td>0.0</td>\n",
       "    </tr>\n",
       "    <tr>\n",
       "      <th>278</th>\n",
       "      <td>0</td>\n",
       "      <td>0.0</td>\n",
       "    </tr>\n",
       "    <tr>\n",
       "      <th>31</th>\n",
       "      <td>1</td>\n",
       "      <td>1.0</td>\n",
       "    </tr>\n",
       "    <tr>\n",
       "      <th>255</th>\n",
       "      <td>1</td>\n",
       "      <td>1.0</td>\n",
       "    </tr>\n",
       "    <tr>\n",
       "      <th>298</th>\n",
       "      <td>1</td>\n",
       "      <td>0.0</td>\n",
       "    </tr>\n",
       "    <tr>\n",
       "      <th>609</th>\n",
       "      <td>1</td>\n",
       "      <td>1.0</td>\n",
       "    </tr>\n",
       "    <tr>\n",
       "      <th>318</th>\n",
       "      <td>1</td>\n",
       "      <td>1.0</td>\n",
       "    </tr>\n",
       "    <tr>\n",
       "      <th>484</th>\n",
       "      <td>1</td>\n",
       "      <td>0.0</td>\n",
       "    </tr>\n",
       "    <tr>\n",
       "      <th>367</th>\n",
       "      <td>1</td>\n",
       "      <td>1.0</td>\n",
       "    </tr>\n",
       "    <tr>\n",
       "      <th>704</th>\n",
       "      <td>0</td>\n",
       "      <td>0.0</td>\n",
       "    </tr>\n",
       "    <tr>\n",
       "      <th>346</th>\n",
       "      <td>1</td>\n",
       "      <td>1.0</td>\n",
       "    </tr>\n",
       "    <tr>\n",
       "      <th>196</th>\n",
       "      <td>0</td>\n",
       "      <td>0.0</td>\n",
       "    </tr>\n",
       "    <tr>\n",
       "      <th>535</th>\n",
       "      <td>1</td>\n",
       "      <td>1.0</td>\n",
       "    </tr>\n",
       "    <tr>\n",
       "      <th>310</th>\n",
       "      <td>1</td>\n",
       "      <td>1.0</td>\n",
       "    </tr>\n",
       "    <tr>\n",
       "      <th>14</th>\n",
       "      <td>0</td>\n",
       "      <td>1.0</td>\n",
       "    </tr>\n",
       "    <tr>\n",
       "      <th>350</th>\n",
       "      <td>0</td>\n",
       "      <td>0.0</td>\n",
       "    </tr>\n",
       "    <tr>\n",
       "      <th>145</th>\n",
       "      <td>0</td>\n",
       "      <td>0.0</td>\n",
       "    </tr>\n",
       "    <tr>\n",
       "      <th>614</th>\n",
       "      <td>0</td>\n",
       "      <td>0.0</td>\n",
       "    </tr>\n",
       "    <tr>\n",
       "      <th>803</th>\n",
       "      <td>1</td>\n",
       "      <td>1.0</td>\n",
       "    </tr>\n",
       "    <tr>\n",
       "      <th>144</th>\n",
       "      <td>0</td>\n",
       "      <td>0.0</td>\n",
       "    </tr>\n",
       "    <tr>\n",
       "      <th>708</th>\n",
       "      <td>1</td>\n",
       "      <td>1.0</td>\n",
       "    </tr>\n",
       "    <tr>\n",
       "      <th>778</th>\n",
       "      <td>0</td>\n",
       "      <td>0.0</td>\n",
       "    </tr>\n",
       "    <tr>\n",
       "      <th>270</th>\n",
       "      <td>0</td>\n",
       "      <td>0.0</td>\n",
       "    </tr>\n",
       "    <tr>\n",
       "      <th>474</th>\n",
       "      <td>0</td>\n",
       "      <td>1.0</td>\n",
       "    </tr>\n",
       "    <tr>\n",
       "      <th>319</th>\n",
       "      <td>1</td>\n",
       "      <td>1.0</td>\n",
       "    </tr>\n",
       "    <tr>\n",
       "      <th>519</th>\n",
       "      <td>0</td>\n",
       "      <td>0.0</td>\n",
       "    </tr>\n",
       "    <tr>\n",
       "      <th>141</th>\n",
       "      <td>1</td>\n",
       "      <td>1.0</td>\n",
       "    </tr>\n",
       "    <tr>\n",
       "      <th>880</th>\n",
       "      <td>1</td>\n",
       "      <td>1.0</td>\n",
       "    </tr>\n",
       "    <tr>\n",
       "      <th>642</th>\n",
       "      <td>0</td>\n",
       "      <td>1.0</td>\n",
       "    </tr>\n",
       "    <tr>\n",
       "      <th>...</th>\n",
       "      <td>...</td>\n",
       "      <td>...</td>\n",
       "    </tr>\n",
       "    <tr>\n",
       "      <th>158</th>\n",
       "      <td>0</td>\n",
       "      <td>0.0</td>\n",
       "    </tr>\n",
       "    <tr>\n",
       "      <th>62</th>\n",
       "      <td>0</td>\n",
       "      <td>0.0</td>\n",
       "    </tr>\n",
       "    <tr>\n",
       "      <th>79</th>\n",
       "      <td>1</td>\n",
       "      <td>1.0</td>\n",
       "    </tr>\n",
       "    <tr>\n",
       "      <th>503</th>\n",
       "      <td>0</td>\n",
       "      <td>1.0</td>\n",
       "    </tr>\n",
       "    <tr>\n",
       "      <th>231</th>\n",
       "      <td>0</td>\n",
       "      <td>0.0</td>\n",
       "    </tr>\n",
       "    <tr>\n",
       "      <th>389</th>\n",
       "      <td>1</td>\n",
       "      <td>1.0</td>\n",
       "    </tr>\n",
       "    <tr>\n",
       "      <th>619</th>\n",
       "      <td>0</td>\n",
       "      <td>0.0</td>\n",
       "    </tr>\n",
       "    <tr>\n",
       "      <th>362</th>\n",
       "      <td>0</td>\n",
       "      <td>1.0</td>\n",
       "    </tr>\n",
       "    <tr>\n",
       "      <th>570</th>\n",
       "      <td>1</td>\n",
       "      <td>0.0</td>\n",
       "    </tr>\n",
       "    <tr>\n",
       "      <th>264</th>\n",
       "      <td>0</td>\n",
       "      <td>1.0</td>\n",
       "    </tr>\n",
       "    <tr>\n",
       "      <th>644</th>\n",
       "      <td>1</td>\n",
       "      <td>1.0</td>\n",
       "    </tr>\n",
       "    <tr>\n",
       "      <th>384</th>\n",
       "      <td>0</td>\n",
       "      <td>0.0</td>\n",
       "    </tr>\n",
       "    <tr>\n",
       "      <th>762</th>\n",
       "      <td>1</td>\n",
       "      <td>0.0</td>\n",
       "    </tr>\n",
       "    <tr>\n",
       "      <th>513</th>\n",
       "      <td>1</td>\n",
       "      <td>1.0</td>\n",
       "    </tr>\n",
       "    <tr>\n",
       "      <th>85</th>\n",
       "      <td>1</td>\n",
       "      <td>1.0</td>\n",
       "    </tr>\n",
       "    <tr>\n",
       "      <th>352</th>\n",
       "      <td>0</td>\n",
       "      <td>0.0</td>\n",
       "    </tr>\n",
       "    <tr>\n",
       "      <th>75</th>\n",
       "      <td>0</td>\n",
       "      <td>0.0</td>\n",
       "    </tr>\n",
       "    <tr>\n",
       "      <th>631</th>\n",
       "      <td>0</td>\n",
       "      <td>-0.0</td>\n",
       "    </tr>\n",
       "    <tr>\n",
       "      <th>395</th>\n",
       "      <td>0</td>\n",
       "      <td>0.0</td>\n",
       "    </tr>\n",
       "    <tr>\n",
       "      <th>294</th>\n",
       "      <td>0</td>\n",
       "      <td>0.0</td>\n",
       "    </tr>\n",
       "    <tr>\n",
       "      <th>500</th>\n",
       "      <td>0</td>\n",
       "      <td>0.0</td>\n",
       "    </tr>\n",
       "    <tr>\n",
       "      <th>222</th>\n",
       "      <td>0</td>\n",
       "      <td>-0.0</td>\n",
       "    </tr>\n",
       "    <tr>\n",
       "      <th>1</th>\n",
       "      <td>1</td>\n",
       "      <td>1.0</td>\n",
       "    </tr>\n",
       "    <tr>\n",
       "      <th>425</th>\n",
       "      <td>0</td>\n",
       "      <td>0.0</td>\n",
       "    </tr>\n",
       "    <tr>\n",
       "      <th>760</th>\n",
       "      <td>0</td>\n",
       "      <td>0.0</td>\n",
       "    </tr>\n",
       "    <tr>\n",
       "      <th>780</th>\n",
       "      <td>1</td>\n",
       "      <td>1.0</td>\n",
       "    </tr>\n",
       "    <tr>\n",
       "      <th>837</th>\n",
       "      <td>0</td>\n",
       "      <td>0.0</td>\n",
       "    </tr>\n",
       "    <tr>\n",
       "      <th>215</th>\n",
       "      <td>1</td>\n",
       "      <td>1.0</td>\n",
       "    </tr>\n",
       "    <tr>\n",
       "      <th>833</th>\n",
       "      <td>0</td>\n",
       "      <td>0.0</td>\n",
       "    </tr>\n",
       "    <tr>\n",
       "      <th>372</th>\n",
       "      <td>0</td>\n",
       "      <td>0.0</td>\n",
       "    </tr>\n",
       "  </tbody>\n",
       "</table>\n",
       "<p>179 rows × 2 columns</p>\n",
       "</div>"
      ],
      "text/plain": [
       "     Actual  Predicted\n",
       "495       0        0.0\n",
       "648       0        0.0\n",
       "278       0        0.0\n",
       "31        1        1.0\n",
       "255       1        1.0\n",
       "298       1        0.0\n",
       "609       1        1.0\n",
       "318       1        1.0\n",
       "484       1        0.0\n",
       "367       1        1.0\n",
       "704       0        0.0\n",
       "346       1        1.0\n",
       "196       0        0.0\n",
       "535       1        1.0\n",
       "310       1        1.0\n",
       "14        0        1.0\n",
       "350       0        0.0\n",
       "145       0        0.0\n",
       "614       0        0.0\n",
       "803       1        1.0\n",
       "144       0        0.0\n",
       "708       1        1.0\n",
       "778       0        0.0\n",
       "270       0        0.0\n",
       "474       0        1.0\n",
       "319       1        1.0\n",
       "519       0        0.0\n",
       "141       1        1.0\n",
       "880       1        1.0\n",
       "642       0        1.0\n",
       "..      ...        ...\n",
       "158       0        0.0\n",
       "62        0        0.0\n",
       "79        1        1.0\n",
       "503       0        1.0\n",
       "231       0        0.0\n",
       "389       1        1.0\n",
       "619       0        0.0\n",
       "362       0        1.0\n",
       "570       1        0.0\n",
       "264       0        1.0\n",
       "644       1        1.0\n",
       "384       0        0.0\n",
       "762       1        0.0\n",
       "513       1        1.0\n",
       "85        1        1.0\n",
       "352       0        0.0\n",
       "75        0        0.0\n",
       "631       0       -0.0\n",
       "395       0        0.0\n",
       "294       0        0.0\n",
       "500       0        0.0\n",
       "222       0       -0.0\n",
       "1         1        1.0\n",
       "425       0        0.0\n",
       "760       0        0.0\n",
       "780       1        1.0\n",
       "837       0        0.0\n",
       "215       1        1.0\n",
       "833       0        0.0\n",
       "372       0        0.0\n",
       "\n",
       "[179 rows x 2 columns]"
      ]
     },
     "execution_count": 553,
     "metadata": {},
     "output_type": "execute_result"
    }
   ],
   "source": [
    "dfinal"
   ]
  },
  {
   "cell_type": "markdown",
   "metadata": {},
   "source": [
    "#              name : shriyans kapoor \n",
    "#              mail : facinick@gmail.com"
   ]
  },
  {
   "cell_type": "markdown",
   "metadata": {},
   "source": [
    "# State Vector Machine :"
   ]
  },
  {
   "cell_type": "code",
   "execution_count": 554,
   "metadata": {},
   "outputs": [
    {
     "data": {
      "text/plain": [
       "SVC(C=1.0, cache_size=200, class_weight=None, coef0=0.0,\n",
       "  decision_function_shape='ovr', degree=3, gamma='auto', kernel='linear',\n",
       "  max_iter=-1, probability=False, random_state=None, shrinking=True,\n",
       "  tol=0.001, verbose=False)"
      ]
     },
     "execution_count": 554,
     "metadata": {},
     "output_type": "execute_result"
    }
   ],
   "source": [
    "from sklearn.svm import SVC  \n",
    "svclassifier = SVC(kernel='linear')  \n",
    "svclassifier.fit(X_train, Y_train)  "
   ]
  },
  {
   "cell_type": "code",
   "execution_count": 555,
   "metadata": {},
   "outputs": [],
   "source": [
    "Y_pred = svclassifier.predict(X_test)  "
   ]
  },
  {
   "cell_type": "code",
   "execution_count": 541,
   "metadata": {},
   "outputs": [
    {
     "name": "stdout",
     "output_type": "stream",
     "text": [
      "[[92 18]\n",
      " [20 49]]\n",
      "             precision    recall  f1-score   support\n",
      "\n",
      "          0       0.82      0.84      0.83       110\n",
      "          1       0.73      0.71      0.72        69\n",
      "\n",
      "avg / total       0.79      0.79      0.79       179\n",
      "\n"
     ]
    }
   ],
   "source": [
    "from sklearn.metrics import classification_report, confusion_matrix  \n",
    "print(confusion_matrix(Y_test,Y_pred))  \n",
    "print(classification_report(Y_test,Y_pred))  "
   ]
  },
  {
   "cell_type": "code",
   "execution_count": null,
   "metadata": {},
   "outputs": [],
   "source": []
  },
  {
   "cell_type": "code",
   "execution_count": null,
   "metadata": {},
   "outputs": [],
   "source": []
  }
 ],
 "metadata": {
  "kernelspec": {
   "display_name": "Python 3",
   "language": "python",
   "name": "python3"
  },
  "language_info": {
   "codemirror_mode": {
    "name": "ipython",
    "version": 3
   },
   "file_extension": ".py",
   "mimetype": "text/x-python",
   "name": "python",
   "nbconvert_exporter": "python",
   "pygments_lexer": "ipython3",
   "version": "3.6.4"
  }
 },
 "nbformat": 4,
 "nbformat_minor": 2
}
